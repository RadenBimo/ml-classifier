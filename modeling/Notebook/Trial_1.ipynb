{
 "cells": [
  {
   "cell_type": "code",
   "execution_count": 1,
   "metadata": {},
   "outputs": [
    {
     "name": "stdout",
     "output_type": "stream",
     "text": [
      "Path now: c:\\Data\\DOCS\\ME\\Berkas S2 ITS\\Kuliah\\Semester 1\\Rekayasa Perangkat Lunak\\apps\\mlf_classify\\modeling\n"
     ]
    }
   ],
   "source": [
    "import os\n",
    "os.chdir(\"..\")\n",
    "print(\"Path now: \"+os.getcwd())"
   ]
  },
  {
   "cell_type": "markdown",
   "metadata": {},
   "source": [
    "# Import Library\n"
   ]
  },
  {
   "cell_type": "code",
   "execution_count": 5,
   "metadata": {},
   "outputs": [
    {
     "name": "stderr",
     "output_type": "stream",
     "text": [
      "c:\\Data\\DOCS\\ME\\Berkas S2 ITS\\Kuliah\\Semester 1\\Rekayasa Perangkat Lunak\\apps\\mlf_classify\\.venv\\Lib\\site-packages\\tqdm\\auto.py:21: TqdmWarning: IProgress not found. Please update jupyter and ipywidgets. See https://ipywidgets.readthedocs.io/en/stable/user_install.html\n",
      "  from .autonotebook import tqdm as notebook_tqdm\n"
     ]
    }
   ],
   "source": [
    "from sklearn.ensemble import RandomForestClassifier\n",
    "from xgboost import XGBClassifier\n",
    "from sklearn.svm import LinearSVC\n",
    "from sklearn.preprocessing import  LabelEncoder\n",
    "from sklearn.model_selection import train_test_split\n",
    "from transformers import AutoTokenizer, AutoModel\n",
    "import torch\n",
    "import pandas as pd\n",
    "import numpy as np\n",
    "\n",
    "from src.model import *\n",
    "from src.preprocessing import *"
   ]
  },
  {
   "cell_type": "code",
   "execution_count": 6,
   "metadata": {},
   "outputs": [],
   "source": [
    "tokenizer = AutoTokenizer.from_pretrained(\"indobenchmark/indobert-base-p1\")\n",
    "model = AutoModel.from_pretrained(\"indobenchmark/indobert-base-p1\")"
   ]
  },
  {
   "cell_type": "code",
   "execution_count": 32,
   "metadata": {},
   "outputs": [],
   "source": [
    "# df = pd.read_csv(\"Dataset/real_training_data.csv\", skipinitialspace=True, encoding='unicode_escape')\n",
    "df = pd.read_csv(\"Dataset/real_training_data.csv\", sep=\";\", encoding='utf-8')\n",
    "df['message'] = df['message'].astype(str)\n",
    "df['message'] = df['message'].str.lower()\n",
    "X = df[\"message\"].values\n",
    "\n",
    "labels = df['kategori'].values\n",
    "\n",
    "# print(labels)"
   ]
  },
  {
   "cell_type": "code",
   "execution_count": null,
   "metadata": {},
   "outputs": [],
   "source": []
  },
  {
   "cell_type": "code",
   "execution_count": 37,
   "metadata": {},
   "outputs": [
    {
     "name": "stdout",
     "output_type": "stream",
     "text": [
      "['hi widya we believe that the request has been fulfilled hence we would go ahead and resolve this ticket in case you need any further assistance on it please respond to this email and the ticket will be reopened ticket httpshelpdeskteamstreamzcomatickets64956 regards satish sahu teamstreamz support for any support please feel free to write us at supportteamstreamzcom your feedback helps us give you our best! on wed 17 apr at 946 am wecare team wrote dear mba irma kami telah berhasil merubah akun dsr screenshot terlampir mohon di review kembali kami telah berhasil mengupload pjp untuk distributor tri motor terlampir invalid data mohon di review kembali terima kasih salam sukses castrol we care from irma amalia sent wednesday april 17 2024 1006 am to castrolwecarewgroupid ningsih widya cc teamstreamz support subject re pjp trimotor april hi we care please help thank you regards irma amalia csu support pt castrol indonesia perkantoran hijau arkadia tower g lt 3 jl tb simatupang kav88 jakarta selatan 12520 indonesia phone 08119211882 please consider the environment before printing this email from ningsih widya sent wednesday april 17 2024 626 am to teamstreamz support cc irma amalia subject pjp trimotor april dear teamstream mohon maaf untuk update pjp cvtrimotor april terlampir berikut mohon di update untuk new dsr muhammad syahrul 62895415560547 mengantikan dsr sebelumnya ramadhani 6281347343132 mohon untuk proses upload thank you regards widya'\n",
      " 'hi we care please help thank you regards irma amalia csu support pt castrol indonesia perkantoran hijau arkadia tower g lt 3 jl tb simatupang kav88 jakarta selatan 12520 indonesia phone 08119211882 please consider the environment before printing this email cidimage001png01da90aed5a68420 from ningsih widya sent wednesday april 17 2024 626 am to teamstreamz support cc irma amalia subject pjp trimotor april dear teamstream mohon maaf untuk update pjp cvtrimotor april terlampir berikut mohon di update untuk new dsr muhammad syahrul 62895415560547 mengantikan dsr sebelumnya ramadhani 6281347343132 mohon untuk proses upload thank you regards widya'\n",
      " 'dear castrol we care untuk semua list dibawah utk sementara masih di keep semua ya active thank you regards siska from castrolwecarewgroupid sent tuesday april 16 2024 357 pm to siska dwi merinda cc triyanapuspitalinksindoid anindita mayangsari musdanil haryatnoewaysindoid subject castrol last active report admin panel user dear mba siska mohon konfirmasinya mengenai penggunaan admin panel teamstreamz untuk useruser dibawah ini apakah masih aktif menggunakannya atau tidak ya mba? country username role lastactivedate noof days inactive indonesia cvautomandiriperkasakpggmailcom distributor manager mar 31 2024 15 indonesia widyaningsihbpcom distributor manager mar 30 2024 16 indonesia kapuaspontianakgmailcom distributor manager mar 27 2024 19 indonesia susantokurniawancaskalgmailcom distributor manager mar 25 2024 21 indonesia arifdjamibpcom sales manager mar 12 2024 34 indonesia anggisetiawanbpcom sales manager feb 27 2024 48 indonesia graciahermantobpcom sales manager sep 12 2023 216 kami tunggu konfirmasinya ya mba terima kasih salam sukses castrol we care'\n",
      " ...\n",
      " 'dear mas yudha apakah bisa bantu? thank you regards irma amalia csu support pt castrol indonesia perkantoran hijau arkadia tower b lt9 jl tb simatupang kav88 jakarta selatan 12520 indonesia phone 62 21 78549626 please consider the environment before printing this email cidimage001png01d7aedf9d902a90 from castrolwecarewgroupid sent friday september 17 2021 408 pm to irma amalia cc siska dwi merinda haryatnoewaysindoid rickoewaysindoid subject fw id ticket nm20210816544 har importance low dear mba irma mohon informasinya untuk case di bawah ini apakah sudah ada follow up nya dari team terkait sehingga we care dapat meneruskannya ke customer ybs ? terima kasih salam sukses castrol we care from castrolwecarewgroupid sent 07 september 2021 1556 to irma amalia cc siska dwi merinda rickoewaysindoid haryatnoewaysindoid subject fw id ticket nm20210816544 ha importance low dear mba irma mohon follow up nya untuk case dibawah ini terima kasih salam sukses castrol we care from castrolwecarewgroupid sent 06 september 2021 1031 to maryatno irma amalia cc haryatnoewaysindoid rickoewaysindoid siska dwi merinda subject re id ticket nm20210816544 importance low dear mba irma terkait case bpk abdul rosid di bawah ini bpk abdul rosid mengirimkan email seperti pada terlampir mohon follow up nya untuk hal tersebut terima kasih salam sukses castrol we care from maryatno sent 26 august 2021 1042 to irma amalia cc haryatnoewaysindoid rickoewaysindoid castrolwecarewgroupid siska dwi merinda subject re id ticket nm20210816544 hi mba irma msds terlampir rgds maryatno from irma amalia sent thursday august 26 2021 1032 am to maryatno cc haryatnoewaysindoid rickoewaysindoid castrolwecarewgroupid siska dwi merinda subject re id ticket nm20210816544 dear pak mar bisa bantu share msdstds untuk item activ 2t? thank you regards irma amalia csu support pt castrol indonesia perkantoran hijau arkadia tower b lt9 jl tb simatupang kav88 jakarta selatan 12520 indonesia phone 62 21 78549626 please consider the environment before printing this email cidimage001png01d7aedf9d902a90 from rickoewaysindoid sent thursday august 26 2021 1015 am to irma amalia castrolwecarewgroupid siska dwi merinda cc haryatnoewaysindoid subject re id ticket nm20210816544 hi mba irma untuk saat ini we care blm mempunyai data sheet dari castrol activ 2t mungkin boleh minta tolong dishare untuk datanya agar dapat kita kirimkan ke cust mba? terima kasih regards ricko from irma amalia sent wednesday august 25 2021 504 pm to rickoewaysindoid castrolwecarewgroupid siska dwi merinda cc haryatnoewaysindoid subject re id ticket nm20210816544 dear mas richo untuk spec product apakah we care tidak punya data nya? thank you regards irma amalia csu support pt castrol indonesia perkantoran hijau arkadia tower b lt9 jl tb simatupang kav88 jakarta selatan 12520 indonesia phone 62 21 78549626 please consider the environment before printing this email cidimage001png01d7aedf9d902a90 from rickoewaysindoid sent wednesday august 25 2021 501 pm to castrolwecarewgroupid irma amalia siska dwi merinda cc haryatnoewaysindoid subject re id ticket nm20210816544 hi mba irma mohon bantuannya ya untuk case di bawah berikut agar dapat we care informasikna kepada customer terima kasih sebelumnya regards ricko from castrolwecarewgroupid sent wednesday august 25 2021 203 pm to irma amalia siska dwi merinda cc rickoewaysindoid haryatnoewaysindoid subject re id ticket nm20210816544 resend from castrolwecarewgroupid sent 20 august 2021 1638 to irma amalia siska dwi merinda cc rickoewaysindoid haryatnoewaysindoid subject re id ticket nm20210816544 dear mba irma mohon follow up nya untuk spec yang di minta oleh pak abdul apakah bisa segera di kirimkan ke we care mengingat pak abdul sudah bertanya kembali mengenai hal tsb terima kasih salam sukses castrol we care from castrolwecarewgroupid sent 19 august 2021 926 to irma amalia siska dwi merinda cc rickoewaysindoid haryatnoewaysindoid subject re id ticket nm20210816544 dear mba irma bpk abdul rosid bertanya kembaii apakah permohonan spak oli 2 tak yang di sampaikannya bisa segera ditindaklanjuti ? demikian informasinya terima kasih salam sukses castrol we care from castrolwecarewgroupid sent 16 august 2021 1455 to irma amalia siska dwi merinda cc rickoewaysindoid haryatnoewaysindoid subject re id ticket nm20210816544 dear mba irma we care telah mengkonfirmasikan ke bpkabdul apakah spec oli castrol avtive 2t yang ditanyakan tsb ? informasi dari pak abdul sbb iya betul sekali spec yang saya perlukan untuk cycle oil 2stroke oil demikian informasinya terima kasih salam sukses castrol we care from irma amalia sent 16 august 2021 1418 to castrolwecarewgroupid siska dwi merinda cc rickoewaysindoid haryatnoewaysindoid subject re id ticket nm20210816544 dear we care oli yg dimaksud adalah active 2t mohon bisa dijelaskan ke cust tersebut thank you regards irma amalia csu support pt castrol indonesia perkantoran hijau arkadia tower b lt9 jl tb simatupang kav88 jakarta selatan 12520 indonesia phone 62 21 78549626 please consider the environment before printing this email cidimage001png01d7aedf9d902a90 from ticketing castrol sent monday august 16 2021 141 pm to siska dwi merinda irma amalia cc castrolwecarewgroupid rickoewaysindoid haryatnoewaysindoid subject id ticket nm20210816544 dear mba siska castrol we care menginformasikan mengenai email tiket dengan detail sbb ticket id nm20210816544 priority normal status pending inbound bpk abdul rosid area slipi jakarta barat dki jakarta dgn no hp 0818493020 menghubungi castrol we care karena ingin mendapatkan informasi dari spec product oli castrol 2 tak dimana infomasi ini dibutuhkan oleh client dari bpk abdul rosid mohon dapat dibantu terima kasih category member type non member view detail view inbound detail kami tunggu informasinya terimakasih atas perhatiannya salam hangat castrol we care image removed by sender virusfree wwwavgcom'\n",
      " 'dear mba siska castrol we care menginformasikan mengenai email tiket dengan detail sbb ticket idnm20210920549prioritynormalstatuspendinginboundbpk dito dgn alamat di puri serpong i blok e2 no 17 kel setu kec setu tangerang selatan – banten dgn no hp 08170080111 melalui dm instagram bertanya hadiah saya yg giveaway lalu belum sampai min mohon informasinya terima kasihcategorymembertypenon memberview detailview inbound detailnbspnbspkami tunggu informasinya terimakasih atas perhatiannyanbspsalam hangatcastrol we care'\n",
      " 'dear tim we care berikut update cs untuk week 3 september di social media castrol mohon bantuannya untuk di follow up ya thank you regards dinda amelia senior account executive m62 81212303047 e dindachannelobiz the brand story agency jln sisingamangaraja no 65 kebayoran baru jakarta 12120 dki jakarta indonesia p 62 21 2751 4838 f 62 21 2751 4831 w narradacom this email is for the intended recipient only if you have received it by mistake please let us know by reply and then delete it from your system access disclosure copying distribution or reliance on any of it by anyone else is prohibited if you as intended recipient have received this email incorrectly please notify the sender via email immediately']\n"
     ]
    }
   ],
   "source": [
    "X = batch_clean(X)\n",
    "labels = batch_clean(labels)\n",
    "print(X)"
   ]
  },
  {
   "cell_type": "code",
   "execution_count": 9,
   "metadata": {},
   "outputs": [],
   "source": [
    "X_train, X_test, y_train, y_test = train_test_split(X, labels, test_size=0.2, random_state=42)"
   ]
  },
  {
   "cell_type": "code",
   "execution_count": 34,
   "metadata": {},
   "outputs": [],
   "source": [
    "# Create data loaders\n",
    "train_loader = batch_tokenize_data(tokenizer, X_train.tolist())\n",
    "val_loader = batch_tokenize_data(tokenizer, X_test.tolist())"
   ]
  },
  {
   "cell_type": "code",
   "execution_count": 35,
   "metadata": {},
   "outputs": [
    {
     "data": {
      "text/plain": [
       "array([0, 0, 1, ..., 1, 1, 1], dtype=int64)"
      ]
     },
     "execution_count": 35,
     "metadata": {},
     "output_type": "execute_result"
    }
   ],
   "source": [
    "encoder = LabelEncoder()\n",
    "y_train_ = encoder.fit_transform(y_train)\n",
    "y_test_ = encoder.transform(y_test)\n",
    "y_train_"
   ]
  },
  {
   "cell_type": "code",
   "execution_count": 38,
   "metadata": {},
   "outputs": [
    {
     "name": "stderr",
     "output_type": "stream",
     "text": [
      "Processing batches: 100%|██████████| 22/22 [1:15:29<00:00, 205.87s/it]\n",
      "Processing batches: 100%|██████████| 6/6 [17:09<00:00, 171.60s/it]\n"
     ]
    }
   ],
   "source": [
    "hidden_train = get_cls_hidden_state_batches(train_loader, model)\n",
    "hidden_val = get_cls_hidden_state_batches(val_loader, model)"
   ]
  },
  {
   "cell_type": "code",
   "execution_count": 39,
   "metadata": {},
   "outputs": [],
   "source": [
    "cls_train = hidden_train[:,0,:]\n",
    "cls_val = hidden_val[:,0,:]"
   ]
  },
  {
   "cell_type": "code",
   "execution_count": 40,
   "metadata": {},
   "outputs": [
    {
     "name": "stderr",
     "output_type": "stream",
     "text": [
      "c:\\Data\\DOCS\\ME\\Berkas S2 ITS\\Kuliah\\Semester 1\\Rekayasa Perangkat Lunak\\apps\\mlf_classify\\.venv\\Lib\\site-packages\\sklearn\\svm\\_classes.py:31: FutureWarning: The default value of `dual` will change from `True` to `'auto'` in 1.5. Set the value of `dual` explicitly to suppress the warning.\n",
      "  warnings.warn(\n",
      "c:\\Data\\DOCS\\ME\\Berkas S2 ITS\\Kuliah\\Semester 1\\Rekayasa Perangkat Lunak\\apps\\mlf_classify\\.venv\\Lib\\site-packages\\sklearn\\svm\\_base.py:1237: ConvergenceWarning: Liblinear failed to converge, increase the number of iterations.\n",
      "  warnings.warn(\n"
     ]
    }
   ],
   "source": [
    "models= {\n",
    "    \"rf\": RandomForestClassifier(),\n",
    "    \"xgb\": XGBClassifier(),\n",
    "    \"svm\": LinearSVC()\n",
    "}\n",
    "\n",
    "for key, model in models.items():\n",
    "    model.fit(cls_train,y_train_)"
   ]
  },
  {
   "cell_type": "code",
   "execution_count": 41,
   "metadata": {},
   "outputs": [],
   "source": [
    "preds = {key: model.predict(cls_val) for key,model in models.items()}"
   ]
  },
  {
   "cell_type": "code",
   "execution_count": 42,
   "metadata": {},
   "outputs": [
    {
     "name": "stderr",
     "output_type": "stream",
     "text": [
      "c:\\Data\\DOCS\\ME\\Berkas S2 ITS\\Kuliah\\Semester 1\\Rekayasa Perangkat Lunak\\apps\\mlf_classify\\modeling\\src\\model.py:129: FutureWarning: The behavior of DataFrame concatenation with empty or all-NA entries is deprecated. In a future version, this will no longer exclude empty or all-NA columns when determining the result dtypes. To retain the old behavior, exclude the relevant entries before the concat operation.\n",
      "  return pd.concat([results, pd.DataFrame(data_list)], ignore_index=True)\n"
     ]
    },
    {
     "data": {
      "text/html": [
       "<div>\n",
       "<style scoped>\n",
       "    .dataframe tbody tr th:only-of-type {\n",
       "        vertical-align: middle;\n",
       "    }\n",
       "\n",
       "    .dataframe tbody tr th {\n",
       "        vertical-align: top;\n",
       "    }\n",
       "\n",
       "    .dataframe thead th {\n",
       "        text-align: right;\n",
       "    }\n",
       "</style>\n",
       "<table border=\"1\" class=\"dataframe\">\n",
       "  <thead>\n",
       "    <tr style=\"text-align: right;\">\n",
       "      <th></th>\n",
       "      <th>Model</th>\n",
       "      <th>Accuracy</th>\n",
       "      <th>Precision</th>\n",
       "      <th>Recall</th>\n",
       "      <th>F1 Score</th>\n",
       "      <th>MCC</th>\n",
       "    </tr>\n",
       "  </thead>\n",
       "  <tbody>\n",
       "    <tr>\n",
       "      <th>0</th>\n",
       "      <td>rf</td>\n",
       "      <td>0.952652</td>\n",
       "      <td>0.952657</td>\n",
       "      <td>0.952652</td>\n",
       "      <td>0.952651</td>\n",
       "      <td>0.905307</td>\n",
       "    </tr>\n",
       "    <tr>\n",
       "      <th>1</th>\n",
       "      <td>xgb</td>\n",
       "      <td>0.960227</td>\n",
       "      <td>0.960390</td>\n",
       "      <td>0.960227</td>\n",
       "      <td>0.960222</td>\n",
       "      <td>0.920613</td>\n",
       "    </tr>\n",
       "    <tr>\n",
       "      <th>2</th>\n",
       "      <td>svm</td>\n",
       "      <td>0.965909</td>\n",
       "      <td>0.966334</td>\n",
       "      <td>0.965909</td>\n",
       "      <td>0.965899</td>\n",
       "      <td>0.932238</td>\n",
       "    </tr>\n",
       "  </tbody>\n",
       "</table>\n",
       "</div>"
      ],
      "text/plain": [
       "  Model  Accuracy  Precision    Recall  F1 Score       MCC\n",
       "0    rf  0.952652   0.952657  0.952652  0.952651  0.905307\n",
       "1   xgb  0.960227   0.960390  0.960227  0.960222  0.920613\n",
       "2   svm  0.965909   0.966334  0.965909  0.965899  0.932238"
      ]
     },
     "execution_count": 42,
     "metadata": {},
     "output_type": "execute_result"
    }
   ],
   "source": [
    "models_score = compare_model(preds,y_test_)\n",
    "models_score"
   ]
  },
  {
   "cell_type": "code",
   "execution_count": 43,
   "metadata": {},
   "outputs": [],
   "source": [
    "import os\n",
    "import pickle\n",
    "\n",
    "for key,model in models.items():\n",
    "    os.makedirs(\"./model_library\", exist_ok=True)\n",
    "    pickle.dump(model, open(f'./model_library/{key}.pkl', 'wb'))"
   ]
  }
 ],
 "metadata": {
  "kernelspec": {
   "display_name": "NLP",
   "language": "python",
   "name": "python3"
  },
  "language_info": {
   "codemirror_mode": {
    "name": "ipython",
    "version": 3
   },
   "file_extension": ".py",
   "mimetype": "text/x-python",
   "name": "python",
   "nbconvert_exporter": "python",
   "pygments_lexer": "ipython3",
   "version": "3.12.2"
  }
 },
 "nbformat": 4,
 "nbformat_minor": 2
}
